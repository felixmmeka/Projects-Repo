{
 "cells": [
  {
   "cell_type": "code",
   "execution_count": 3,
   "id": "a42b6de6-ed70-49b6-9468-62ab7eea694a",
   "metadata": {},
   "outputs": [],
   "source": [
    "# First let's import the packages we will use in this project\n",
    "# You can do this all now or as you need them\n",
    "import pandas as pd\n",
    "import numpy as np\n",
    "import seaborn as sns\n",
    "\n",
    "import matplotlib.pyplot as plt\n",
    "import matplotlib.mlab as mlab\n",
    "import matplotlib\n",
    "plt.style.use('ggplot')\n",
    "from matplotlib.pyplot import figure\n",
    "\n",
    "%matplotlib inline\n",
    "matplotlib.rcParams['figure.figsize'] = (12,8)\n",
    "\n",
    "pd.options.mode.chained_assignment = None\n",
    "\n",
    "\n",
    "\n",
    "# Now we need to read in the data\n",
    "df = pd.read_csv(r'/Users/Felixmmeka/Python/movies.csv')"
   ]
  },
  {
   "cell_type": "code",
   "execution_count": 70,
   "id": "9075cc54-36ec-42b4-8f09-eb48229860c9",
   "metadata": {},
   "outputs": [],
   "source": [
    "# Now let's take a look at the data\n",
    "\n",
    "df"
   ]
  },
  {
   "cell_type": "code",
   "execution_count": 11,
   "id": "10fbbcf1-4b26-4606-bee2-480fd3804846",
   "metadata": {},
   "outputs": [
    {
     "name": "stdout",
     "output_type": "stream",
     "text": [
      "name - 0.0%\n",
      "rating - 0.010041731872717789%\n",
      "genre - 0.0%\n",
      "year - 0.0%\n",
      "released - 0.0002608242044861763%\n",
      "score - 0.0003912363067292645%\n",
      "votes - 0.0003912363067292645%\n",
      "director - 0.0%\n",
      "writer - 0.0003912363067292645%\n",
      "star - 0.00013041210224308815%\n",
      "country - 0.0003912363067292645%\n",
      "budget - 0.2831246739697444%\n",
      "gross - 0.02464788732394366%\n",
      "company - 0.002217005738132499%\n",
      "runtime - 0.0005216484089723526%\n"
     ]
    }
   ],
   "source": [
    "# Let's see if there is any missing data\n",
    "\n",
    "for col in df.columns:\n",
    "    pct_missing = np.mean(df[col].isnull())\n",
    "    print('{} - {}%'.format(col, pct_missing))"
   ]
  },
  {
   "cell_type": "code",
   "execution_count": 71,
   "id": "663d2b80-1c02-4f02-bb4a-409e6611f950",
   "metadata": {},
   "outputs": [],
   "source": [
    "#Data types of our colomns\n",
    "\n",
    "df.dtypes"
   ]
  },
  {
   "cell_type": "code",
   "execution_count": 22,
   "id": "509d7515-6d1f-409d-aa99-f7d3657e1718",
   "metadata": {},
   "outputs": [],
   "source": [
    "# #change data type of colomns\n",
    "\n",
    "# df['budget'] = df['budget'].astype('int64')\n",
    "# df['gross'] = df['gross'].astype('int64')"
   ]
  },
  {
   "cell_type": "code",
   "execution_count": 72,
   "id": "32fb75ec-7183-4a63-b81a-aad603121729",
   "metadata": {},
   "outputs": [],
   "source": [
    "df"
   ]
  },
  {
   "cell_type": "code",
   "execution_count": 73,
   "id": "1c421af0-cca7-47bc-978c-a89708f5b45d",
   "metadata": {},
   "outputs": [],
   "source": [
    "#Create correct year colomn\n",
    "\n",
    "df['monthcorrect'] = df['released'].astype(str).str[:4]\n",
    "#df['yearcorrect'] = df['released'].astype(str).str[8:12]\n",
    "\n",
    "df"
   ]
  },
  {
   "cell_type": "code",
   "execution_count": 33,
   "id": "5f9e3341-37d2-48e1-a365-638200a9750d",
   "metadata": {},
   "outputs": [],
   "source": [
    "# To see the whole table or cap the number of rows\n",
    "#pd.set_option('display.max_rows', None)\n",
    "pd.set_option('display.max_rows', 20)"
   ]
  },
  {
   "cell_type": "code",
   "execution_count": 74,
   "id": "1ba8b10e-2086-4938-970c-a23d74b418fb",
   "metadata": {},
   "outputs": [],
   "source": [
    "df.sort_values(by=['gross'], inplace=False, ascending=False)"
   ]
  },
  {
   "cell_type": "code",
   "execution_count": 47,
   "id": "802bb8d6-f215-4267-b5a1-468e7a98e952",
   "metadata": {},
   "outputs": [
    {
     "data": {
      "text/plain": [
       "7129                                thefyzz\n",
       "5664                            micro_scope\n",
       "6412               iDeal Partners Film Fund\n",
       "4007                               i5 Films\n",
       "6793                             i am OTHER\n",
       "                       ...                 \n",
       "3748                     1+2 Seisaku Iinkai\n",
       "3024                        .406 Production\n",
       "7525    \"Weathering With You\" Film Partners\n",
       "4345        \"DIA\" Productions GmbH & Co. KG\n",
       "408                                     NaN\n",
       "Name: company, Length: 2386, dtype: object"
      ]
     },
     "execution_count": 47,
     "metadata": {},
     "output_type": "execute_result"
    }
   ],
   "source": [
    "# Drop any diplicates \n",
    "\n",
    "df['company'].drop_duplicates().sort_values(ascending=False)"
   ]
  },
  {
   "cell_type": "code",
   "execution_count": 95,
   "id": "cf84e727-dc04-4f61-a163-d3864a85f345",
   "metadata": {},
   "outputs": [],
   "source": [
    "# Scatter plot with budget vs gross\n",
    "\n",
    "\n",
    "plt.scatter(x=df['budget'], y=df['gross'])\n",
    "\n",
    "plt.title('Budget vs Gross Earnings')\n",
    "\n",
    "plt.xlabel('Gross Earnings')\n",
    "\n",
    "plt.ylabel('Budget for Film')\n",
    "\n",
    "plt.show()"
   ]
  },
  {
   "cell_type": "code",
   "execution_count": 100,
   "id": "d2825878-fb83-4fee-a69f-f3aba1b28539",
   "metadata": {},
   "outputs": [],
   "source": [
    "# Plot the budget vs growth using seaborn\n",
    "\n",
    "sns.regplot(x='budget', y='gross', data=df, scatter_kws={\"color\": \"red\"}, line_kws={\"color\":\"blue\"})"
   ]
  },
  {
   "cell_type": "markdown",
   "id": "4365b507-35b5-4032-b863-449870b2e1bd",
   "metadata": {},
   "source": [
    "#Lets start looking at correlation"
   ]
  },
  {
   "cell_type": "code",
   "execution_count": 55,
   "id": "9c7a3fa5-90ca-4592-a548-1df36e8fa03c",
   "metadata": {},
   "outputs": [
    {
     "name": "stderr",
     "output_type": "stream",
     "text": [
      "/var/folders/0b/g4jmsm6518gbyjq8vvjmjxp00000gn/T/ipykernel_4180/1134722465.py:1: FutureWarning: The default value of numeric_only in DataFrame.corr is deprecated. In a future version, it will default to False. Select only valid columns or specify the value of numeric_only to silence this warning.\n",
      "  df.corr()\n"
     ]
    },
    {
     "data": {
      "text/html": [
       "<div>\n",
       "<style scoped>\n",
       "    .dataframe tbody tr th:only-of-type {\n",
       "        vertical-align: middle;\n",
       "    }\n",
       "\n",
       "    .dataframe tbody tr th {\n",
       "        vertical-align: top;\n",
       "    }\n",
       "\n",
       "    .dataframe thead th {\n",
       "        text-align: right;\n",
       "    }\n",
       "</style>\n",
       "<table border=\"1\" class=\"dataframe\">\n",
       "  <thead>\n",
       "    <tr style=\"text-align: right;\">\n",
       "      <th></th>\n",
       "      <th>year</th>\n",
       "      <th>score</th>\n",
       "      <th>votes</th>\n",
       "      <th>budget</th>\n",
       "      <th>gross</th>\n",
       "      <th>runtime</th>\n",
       "    </tr>\n",
       "  </thead>\n",
       "  <tbody>\n",
       "    <tr>\n",
       "      <th>year</th>\n",
       "      <td>1.000000</td>\n",
       "      <td>0.097995</td>\n",
       "      <td>0.222945</td>\n",
       "      <td>0.329321</td>\n",
       "      <td>0.257486</td>\n",
       "      <td>0.120811</td>\n",
       "    </tr>\n",
       "    <tr>\n",
       "      <th>score</th>\n",
       "      <td>0.097995</td>\n",
       "      <td>1.000000</td>\n",
       "      <td>0.409182</td>\n",
       "      <td>0.076254</td>\n",
       "      <td>0.186258</td>\n",
       "      <td>0.399451</td>\n",
       "    </tr>\n",
       "    <tr>\n",
       "      <th>votes</th>\n",
       "      <td>0.222945</td>\n",
       "      <td>0.409182</td>\n",
       "      <td>1.000000</td>\n",
       "      <td>0.442429</td>\n",
       "      <td>0.630757</td>\n",
       "      <td>0.309212</td>\n",
       "    </tr>\n",
       "    <tr>\n",
       "      <th>budget</th>\n",
       "      <td>0.329321</td>\n",
       "      <td>0.076254</td>\n",
       "      <td>0.442429</td>\n",
       "      <td>1.000000</td>\n",
       "      <td>0.740395</td>\n",
       "      <td>0.320447</td>\n",
       "    </tr>\n",
       "    <tr>\n",
       "      <th>gross</th>\n",
       "      <td>0.257486</td>\n",
       "      <td>0.186258</td>\n",
       "      <td>0.630757</td>\n",
       "      <td>0.740395</td>\n",
       "      <td>1.000000</td>\n",
       "      <td>0.245216</td>\n",
       "    </tr>\n",
       "    <tr>\n",
       "      <th>runtime</th>\n",
       "      <td>0.120811</td>\n",
       "      <td>0.399451</td>\n",
       "      <td>0.309212</td>\n",
       "      <td>0.320447</td>\n",
       "      <td>0.245216</td>\n",
       "      <td>1.000000</td>\n",
       "    </tr>\n",
       "  </tbody>\n",
       "</table>\n",
       "</div>"
      ],
      "text/plain": [
       "             year     score     votes    budget     gross   runtime\n",
       "year     1.000000  0.097995  0.222945  0.329321  0.257486  0.120811\n",
       "score    0.097995  1.000000  0.409182  0.076254  0.186258  0.399451\n",
       "votes    0.222945  0.409182  1.000000  0.442429  0.630757  0.309212\n",
       "budget   0.329321  0.076254  0.442429  1.000000  0.740395  0.320447\n",
       "gross    0.257486  0.186258  0.630757  0.740395  1.000000  0.245216\n",
       "runtime  0.120811  0.399451  0.309212  0.320447  0.245216  1.000000"
      ]
     },
     "execution_count": 55,
     "metadata": {},
     "output_type": "execute_result"
    }
   ],
   "source": [
    "df.corr() #Pearson, #kendall , #spearman \n",
    "#Pearson is defualt when using the command"
   ]
  },
  {
   "cell_type": "code",
   "execution_count": 98,
   "id": "5a2fb8f8-4eba-47bb-aec5-afe587562419",
   "metadata": {},
   "outputs": [],
   "source": [
    "correaltion_matrix=df.corr()\n",
    "\n",
    "sns.heatmap(correaltion_matrix, annot=True)\n",
    "\n",
    "plt.title('Correlation Matrix for Numeric Features')\n",
    "\n",
    "plt.xlabel('Movie Features')\n",
    "\n",
    "plt.ylabel('Movie Features')\n",
    "\n",
    "plt.show()"
   ]
  },
  {
   "cell_type": "code",
   "execution_count": 78,
   "id": "cd945f37-55f0-4bc2-9e0d-cf474956c190",
   "metadata": {},
   "outputs": [],
   "source": [
    "# Looking at Company correlation\n",
    "\n",
    "df_numerized = df\n",
    "\n",
    "for col_name in df_numerized.columns:\n",
    "    if(df_numerized[col_name].dtype == 'object'):\n",
    "        df_numerized[col_name] = df_numerized[col_name].astype('category')\n",
    "        df_numerized[col_name] =  df_numerized[col_name].cat.codes\n",
    "\n",
    "df_numerized"
   ]
  },
  {
   "cell_type": "code",
   "execution_count": 99,
   "id": "18985a7e-b837-467f-beb1-84ff62a202eb",
   "metadata": {},
   "outputs": [],
   "source": [
    "\n",
    "\n",
    "correaltion_matrix=df_numerized.corr()\n",
    "\n",
    "sns.heatmap(correaltion_matrix, annot=True)\n",
    "\n",
    "plt.title('Correlation Matrix for Numeric Features')\n",
    "\n",
    "plt.xlabel('Movie Features')\n",
    "\n",
    "plt.ylabel('Movie Features')\n",
    "\n",
    "plt.show()"
   ]
  },
  {
   "cell_type": "code",
   "execution_count": 80,
   "id": "1f863159-15b1-461b-9fa8-3154f02c15d5",
   "metadata": {},
   "outputs": [],
   "source": [
    "df_numerized.corr()"
   ]
  },
  {
   "cell_type": "code",
   "execution_count": 67,
   "id": "86f5c57d-2f57-4e5a-b57f-cd3574d3800f",
   "metadata": {},
   "outputs": [
    {
     "data": {
      "text/plain": [
       "name          name            1.000000\n",
       "              rating         -0.008069\n",
       "              genre           0.016355\n",
       "              year            0.011453\n",
       "              released       -0.011311\n",
       "                                ...   \n",
       "monthcorrect  gross           0.002946\n",
       "              company        -0.010726\n",
       "              runtime         0.000410\n",
       "              yearcorrect     0.415898\n",
       "              monthcorrect    1.000000\n",
       "Length: 289, dtype: float64"
      ]
     },
     "execution_count": 67,
     "metadata": {},
     "output_type": "execute_result"
    }
   ],
   "source": [
    "correlation_mat = df_numerized.corr()\n",
    "\n",
    "corr_pairs = correlation_mat.unstack()\n",
    "\n",
    "corr_pairs"
   ]
  },
  {
   "cell_type": "code",
   "execution_count": 68,
   "id": "11ece5c3-96df-4af6-9db8-307021d809e4",
   "metadata": {},
   "outputs": [
    {
     "data": {
      "text/plain": [
       "genre         budget         -0.356564\n",
       "budget        genre          -0.356564\n",
       "genre         gross          -0.235650\n",
       "gross         genre          -0.235650\n",
       "budget        rating         -0.176002\n",
       "                                ...   \n",
       "year          year            1.000000\n",
       "genre         genre           1.000000\n",
       "rating        rating          1.000000\n",
       "yearcorrect   yearcorrect     1.000000\n",
       "monthcorrect  monthcorrect    1.000000\n",
       "Length: 289, dtype: float64"
      ]
     },
     "execution_count": 68,
     "metadata": {},
     "output_type": "execute_result"
    }
   ],
   "source": [
    "sorted_pairs = corr_pairs.sort_values()\n",
    "\n",
    "sorted_pairs"
   ]
  },
  {
   "cell_type": "code",
   "execution_count": 69,
   "id": "a1d15a86-12fd-4cb4-8fcd-e93cec1f9f0d",
   "metadata": {},
   "outputs": [
    {
     "data": {
      "text/plain": [
       "gross         votes           0.630757\n",
       "votes         gross           0.630757\n",
       "budget        gross           0.740395\n",
       "gross         budget          0.740395\n",
       "monthcorrect  released        0.993694\n",
       "                                ...   \n",
       "year          year            1.000000\n",
       "genre         genre           1.000000\n",
       "rating        rating          1.000000\n",
       "yearcorrect   yearcorrect     1.000000\n",
       "monthcorrect  monthcorrect    1.000000\n",
       "Length: 23, dtype: float64"
      ]
     },
     "execution_count": 69,
     "metadata": {},
     "output_type": "execute_result"
    }
   ],
   "source": [
    "high_correlation = sorted_pairs[(sorted_pairs) > 0.5]\n",
    "\n",
    "high_correlation"
   ]
  },
  {
   "cell_type": "code",
   "execution_count": null,
   "id": "f593a2c8-d474-4b97-8462-e27b660f0d54",
   "metadata": {},
   "outputs": [],
   "source": [
    "# Votes and budget have the highest correlation to Gross earnings\n",
    "\n",
    "# Company has low correlation"
   ]
  }
 ],
 "metadata": {
  "kernelspec": {
   "display_name": "Python 3 (ipykernel)",
   "language": "python",
   "name": "python3"
  },
  "language_info": {
   "codemirror_mode": {
    "name": "ipython",
    "version": 3
   },
   "file_extension": ".py",
   "mimetype": "text/x-python",
   "name": "python",
   "nbconvert_exporter": "python",
   "pygments_lexer": "ipython3",
   "version": "3.10.9"
  }
 },
 "nbformat": 4,
 "nbformat_minor": 5
}
