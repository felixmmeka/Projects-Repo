{
 "cells": [
  {
   "cell_type": "code",
   "execution_count": 13,
   "id": "8fbdaef8",
   "metadata": {},
   "outputs": [
    {
     "name": "stdout",
     "output_type": "stream",
     "text": [
      "Enter your name: Alex\n",
      "Enter your weight in pounds: 170\n",
      "Enter your height in inches: 69\n",
      "25.101869355177485\n",
      "Alex ,you are overweight\n"
     ]
    }
   ],
   "source": [
    "name = input(\"Enter your name: \")\n",
    "\n",
    "weight = int(input(\"Enter your weight in pounds: \"))\n",
    "\n",
    "height = int(input(\"Enter your height in inches: \"))\n",
    "\n",
    "BMI = (weight * 703) / (height * height)\n",
    "\n",
    "print(BMI)\n",
    "\n",
    "if BMI>0:\n",
    "    if(BMI<18.5):\n",
    "        print(name +\" ,you are underweight.\")\n",
    "    elif(BMI<=24.9):\n",
    "        print(name +\" ,you are normal weight.\")\n",
    "    elif(BMI<=29.9):\n",
    "        print(name +\" ,you are overweight. You need to excerise and deit more\")\n",
    "    elif(BMI<=34.9):\n",
    "        print(name +\" ,you are obese.\")\n",
    "    elif(BMI<=39.9):\n",
    "        print(name +\" ,you are severely obese.\")\n",
    "    elif(BMI>39.9):\n",
    "        print(name +\" ,you are morbidly obese.\")\n",
    "else:\n",
    "    print(\"Enter valid inputs\")"
   ]
  },
  {
   "cell_type": "code",
   "execution_count": 14,
   "id": "8c67b242",
   "metadata": {},
   "outputs": [],
   "source": [
    "# if BMI>0:\n",
    "#     if(BMI<18.5):\n",
    "#         print(name +\" ,you are underweight\")\n",
    "#     elif(BMI<=24.9):\n",
    "#         print(name +\" ,you are normal weight\")\n",
    "#     elif(BMI<=29.9):\n",
    "#         print(name +\" ,you are overweight\")\n",
    "#     elif(<=34.9):\n",
    "#         print(name +\" ,you are obese\")\n",
    "#     elif(BMI<=39.9):\n",
    "#         print(name +\" ,you are severely obese\")\n",
    "#     elif(BMI>39.9):\n",
    "#         print(name +\" ,you are morbidly obese\")\n",
    "#     else:\n",
    "# #         print(\"Enter valid inputs\")"
   ]
  },
  {
   "cell_type": "code",
   "execution_count": null,
   "id": "5cfd3eab",
   "metadata": {},
   "outputs": [],
   "source": [
    "#BMI = (weight in pounds x 703) / (height in inches x height in inches)"
   ]
  },
  {
   "cell_type": "code",
   "execution_count": 15,
   "id": "9b885686",
   "metadata": {},
   "outputs": [],
   "source": [
    "#Under 18.5\tUnderweight\tMinimal\n",
    "# 18.5 - 24.9\tNormal Weight\tMinimal\n",
    "# 25 - 29.9\tOverweight\tIncreased\n",
    "# 30 - 34.9\tObese\tHigh\n",
    "# 35 - 39.9\tSeverely Obese\tVery High\n",
    "# 40 and over\tMorbidly Obese\tExtremely High"
   ]
  },
  {
   "cell_type": "code",
   "execution_count": null,
   "id": "fd7b9f7b",
   "metadata": {},
   "outputs": [],
   "source": []
  }
 ],
 "metadata": {
  "kernelspec": {
   "display_name": "Python 3 (ipykernel)",
   "language": "python",
   "name": "python3"
  },
  "language_info": {
   "codemirror_mode": {
    "name": "ipython",
    "version": 3
   },
   "file_extension": ".py",
   "mimetype": "text/x-python",
   "name": "python",
   "nbconvert_exporter": "python",
   "pygments_lexer": "ipython3",
   "version": "3.10.9"
  }
 },
 "nbformat": 4,
 "nbformat_minor": 5
}
